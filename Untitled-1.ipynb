{
 "cells": [
  {
   "cell_type": "code",
   "execution_count": 3,
   "metadata": {},
   "outputs": [
    {
     "name": "stdout",
     "output_type": "stream",
     "text": [
      "403 Client Error: Forbidden for url: https://www.imdb.com/chart/top/\n"
     ]
    }
   ],
   "source": [
    "from bs4 import BeautifulSoup\n",
    "import requests,openpyxl\n",
    "try:\n",
    "  source=requests.get('https://www.imdb.com/chart/top/')\n",
    "  source.raise_for_status()\n",
    "  soup=BeautifulSoup(source.text,'html.parser')\n",
    "  movies=soup.find('tbody',class_=\"lister-list\").find_all('tr')\n",
    "  print(len(movies))\n",
    "  for movie in movies:\n",
    "    name=movie.find('td',class_=\"titleColumn\").a.text\n",
    "    rank=movie.find('td',class_=\"titleColumn\").get_text(strip=True).split('.')[0] #strip remove spaces and new line character\n",
    "    year=movie.find('td',class_=\"titleColumn\").span.text.strip('()')\n",
    "    rating=movie.find('td',class_=\"ratingColumn imdbRating\").strong.text\n",
    "    print(rank,name,year,rating)\n",
    "except Exception as e:\n",
    "  print(e)\n",
    "\n",
    "excel.save('IMDB_Movie_Rating.xlsx')"
   ]
  },
  {
   "cell_type": "code",
   "execution_count": 2,
   "metadata": {},
   "outputs": [
    {
     "name": "stdout",
     "output_type": "stream",
     "text": [
      "['Sheet']\n",
      "['Top Rated Movies']\n"
     ]
    }
   ],
   "source": [
    "excel=openpyxl.Workbook()\n",
    "print(excel.sheetnames)\n",
    "sheet=excel.active\n",
    "sheet.title='Top Rated Movies'\n",
    "print(excel.sheetnames)\n",
    "sheet.append(['Movie Rank','Movie Name','Year of Release','IMDB Rating'])"
   ]
  },
  {
   "cell_type": "code",
   "execution_count": 17,
   "metadata": {},
   "outputs": [
    {
     "name": "stdout",
     "output_type": "stream",
     "text": [
      "Collecting openpyxl\n",
      "  Downloading openpyxl-3.1.5-py2.py3-none-any.whl.metadata (2.5 kB)\n",
      "Collecting et-xmlfile (from openpyxl)\n",
      "  Downloading et_xmlfile-1.1.0-py3-none-any.whl.metadata (1.8 kB)\n",
      "Downloading openpyxl-3.1.5-py2.py3-none-any.whl (250 kB)\n",
      "\u001b[2K   \u001b[90m━━━━━━━━━━━━━━━━━━━━━━━━━━━━━━━━━━━━━━━━\u001b[0m \u001b[32m250.9/250.9 kB\u001b[0m \u001b[31m1.4 MB/s\u001b[0m eta \u001b[36m0:00:00\u001b[0m00:01\u001b[0m00:01\u001b[0m\n",
      "\u001b[?25hDownloading et_xmlfile-1.1.0-py3-none-any.whl (4.7 kB)\n",
      "Installing collected packages: et-xmlfile, openpyxl\n",
      "Successfully installed et-xmlfile-1.1.0 openpyxl-3.1.5\n"
     ]
    }
   ],
   "source": [
    "!pip install openpyxl"
   ]
  }
 ],
 "metadata": {
  "kernelspec": {
   "display_name": "Python 3",
   "language": "python",
   "name": "python3"
  },
  "language_info": {
   "codemirror_mode": {
    "name": "ipython",
    "version": 3
   },
   "file_extension": ".py",
   "mimetype": "text/x-python",
   "name": "python",
   "nbconvert_exporter": "python",
   "pygments_lexer": "ipython3",
   "version": "3.10.13"
  }
 },
 "nbformat": 4,
 "nbformat_minor": 2
}
